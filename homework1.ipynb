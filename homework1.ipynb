{
 "cells": [
  {
   "cell_type": "markdown",
   "metadata": {},
   "source": [
    "<h1 style=\"font-size: 32px; text-align: center;\">Physics 29 Homework 1</h1>\n",
    "<h2 style=\"font-size: 24px; text-align: center;\">Completed by: Aidan Shim prior to 1/17/2024</h2>\n",
    "<h3 style=\"font-size: 24px; text-align: center;\">Winter 2024</h2>"
   ]
  },
  {
   "cell_type": "markdown",
   "metadata": {},
   "source": []
  },
  {
   "cell_type": "markdown",
   "metadata": {},
   "source": [
    "# Homework 1"
   ]
  },
  {
   "cell_type": "markdown",
   "metadata": {},
   "source": [
    "## Problem 1.1\n",
    "Write a program that takes a sentence and prints out a count of the number of words and the number of characters in the sentence. Note that words can be separated by white spaces but also punctuation (commas, semicolon, etc.), so your program should deal with that. For example ```hello world``` and ```hello, world``` and ```hello,world``` all consists of two words. Soon we will learn how to make such a program into a function. For now, test your code on this sentence: \n",
    "\n",
    "\"When half way through the journey of our life I found that I was in a gloomy wood, because the path which led aright was lost. And ah, how hard it is to say just what this wild and rough and stubborn woodland was, the very thought of which renews my fear!\""
   ]
  },
  {
   "cell_type": "code",
   "execution_count": null,
   "metadata": {},
   "outputs": [],
   "source": [
    "# Solution Below\n",
    "\n",
    "# Documentation\n",
    "# def count_words_and_characters(sentence) is the whole function defining an input sentence as a parameter\n",
    "    # words = sentence.split() uses the split() function to split each word in the string into a list, which defined the 'words' variable \n",
    "    # num_words = len(words) uses the len(words) to count the length of the list, thus defining the number of words found in the string\n",
    "    # num_characters \n",
    "\n",
    "def count_words_and_characters(sentence):\n",
    "    words = sentence.split() # Split() function can split a long string into independent words as a list, with the whitepsace as the default seperator \n",
    "    num_words = len(words) # Since the words are in a list, we can count the number of words in the sentence string by counting the length / number of items in the list\n",
    "    num_characters = sum(len(word) for word in words) \n",
    "    print(\"Number of words:\", num_words) \n",
    "    print(\"Number of characters:\", num_characters)\n",
    "\n",
    "# Primary sentence used for the problem\n",
    "sentence = \"When half way through the journey of our life I found that I was in a gloomy wood, because the path which led aright was lost. And ah, how hard it is to say just what this wild and rough and stubborn woodland was, the very thought of which renews my fear!\"\n",
    "\n",
    "# Sentences and words to test for accuracy. Testing single words with spaces to check that spaces are ignored in character counts, long sentences, short, and numbers. Simply for testing purposes only and are not actually part of the homework\n",
    "sentence2 = \"I Like Pie\"\n",
    "sentence3 = \" Aidan \"\n",
    "sentence4 = \"22 Chickens in the basket\"\n",
    "\n",
    "# Uses the function with a sentence parameter defined \"sentence\" which in our case, is going to be sthe defined sentence in the problem 1.1\n",
    "count_words_and_characters(sentence)\n",
    "\n"
   ]
  },
  {
   "cell_type": "markdown",
   "metadata": {},
   "source": [
    "## Problem 1.2 \n",
    "Write a program that prints to the screen the set of integers between 100 and 400 (inclusive) for which all of the *digits* are even. "
   ]
  },
  {
   "cell_type": "code",
   "execution_count": null,
   "metadata": {},
   "outputs": [],
   "source": [
    "# Solution Below\n",
    "\n",
    "# Documentation and explanation\n",
    "    # For the set below, we are defining the items as integers where each digit is even (i.e. 200 has all values being even) \n",
    "    # We define the items as the num for all values ranging from 100 to 400, where it goes up to 401 to include 400, thus iterating over all nums and adding them if they meet the critera \n",
    "    # Said criteria being their value mod 2 is 0, or the remainder of their division with 2 has to be 0 to be consideed even for all digits in each number \n",
    "    # We aren't dividing the number itself by 2 to test for even-ness, but instead for each digit we are iterating over for each number\n",
    "result_set = {num for num in range(100, 401) if all(int(digit) % 2 == 0 for digit in str(num))}\n",
    "print(result_set)\n"
   ]
  },
  {
   "cell_type": "markdown",
   "metadata": {},
   "source": [
    "## Problem 1.3\n",
    "Write a program that calculates the prime number factors of any number, with their relative powers. For example if the number was 4567956 it should return \n",
    "\n",
    "2 to the power of 2  \n",
    "3 to the power of 1  \n",
    "191 to the power 1  \n",
    "1993 to the power 1  \n",
    "\n",
    "Check your program by running it on test cases for which you know the answer (e.g. prime numbers). Calculate the prime factors for the number 9572121. If you want to further test your code you can run it on sample numbers using a website like [https://www.calculatorsoup.com/calculators/math/prime-factors.php](https://www.calculatorsoup.com/calculators/math/prime-factors.php)."
   ]
  },
  {
   "cell_type": "code",
   "execution_count": null,
   "metadata": {},
   "outputs": [],
   "source": [
    "# Solution Below\n",
    "\n",
    "# Documentation \n",
    "# The function defining the prime_factors must first define the basic divisor 2 for prime-ness testing \n",
    "    # We have an empty list that will detail our respective prime factors, which will be printed towards the main() function once we collect sufficient information on their powers\n",
    "    # For the while division <= n if-else statements below, we will be iteating the divisor for each value n, where n is our number we will be testing each respective prime number for to test for divisibaility via the mod operator\n",
    "    # The first check in the condition for the divisor being less than or equal to n is that if the division between some number n nets no remainder\n",
    "    # The follow up of the division test through the mod operator is to see if the divisor is in the factors list or not. If it isn't, it nets an addition of the divisor into the factors while considering the net quantity of said prime factor as a divisor\n",
    "    # This iterates until the prime factor can no longer serve as a divisor, through checking by dividing the changing the value of n by the division of the divisor \n",
    "def prime_factors(n):\n",
    "    factors = {}\n",
    "    divisor = 2\n",
    "\n",
    "    while divisor <= n:\n",
    "        if n % divisor == 0:\n",
    "            if divisor not in factors:\n",
    "                factors[divisor] = 1\n",
    "            else:\n",
    "                factors[divisor] += 1\n",
    "            n //= divisor\n",
    "        else:\n",
    "            divisor += 1\n",
    "\n",
    "    return factors.items()\n",
    "\n",
    "\n",
    "# Main function here inputs the number that will have prime numbers be tested with, generate the factors in the list from the return element at the end of the prime_factors function\n",
    "def main():\n",
    "    number = int(input(\"Enter a number: \"))\n",
    "    result = prime_factors(number)\n",
    "\n",
    "    # For each quantity of factors, it will be set as the power of the divisor, to signify each prime number being some value to the power of its frequency in the list over the iteration in the function above\n",
    "    for factor, power in result:\n",
    "        print(f\"{factor} to the power of {power}\")\n",
    "\n",
    "# Runs entire program and calls for the main() function\n",
    "if __name__ == \"__main__\":\n",
    "    main()\n"
   ]
  }
 ],
 "metadata": {
  "kernelspec": {
   "display_name": "Python 3 (ipykernel)",
   "language": "python",
   "name": "python3"
  },
  "language_info": {
   "codemirror_mode": {
    "name": "ipython",
    "version": 3
   },
   "file_extension": ".py",
   "mimetype": "text/x-python",
   "name": "python",
   "nbconvert_exporter": "python",
   "pygments_lexer": "ipython3",
   "version": "3.11.7"
  }
 },
 "nbformat": 4,
 "nbformat_minor": 4
}
